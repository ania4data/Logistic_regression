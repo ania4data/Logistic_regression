{
 "cells": [
  {
   "cell_type": "code",
   "execution_count": 95,
   "metadata": {},
   "outputs": [],
   "source": [
    "import numpy as np\n",
    "import matplotlib.pyplot as plt"
   ]
  },
  {
   "cell_type": "code",
   "execution_count": 96,
   "metadata": {},
   "outputs": [
    {
     "data": {
      "text/plain": [
       "(100, 1)"
      ]
     },
     "execution_count": 96,
     "metadata": {},
     "output_type": "execute_result"
    }
   ],
   "source": [
    "N=100\n",
    "D=2\n",
    "X=np.random.randn(N,D)\n",
    "X0=(np.ones(N))\n",
    "X0=np.array(X0).reshape(N,1)\n",
    "np.shape(X0)\n",
    "#ones=np.array([[1]*N]).T    #another way\n",
    "#np.shape(ones)              #anoterhway\n",
    "#ones\n",
    "#X0"
   ]
  },
  {
   "cell_type": "code",
   "execution_count": 100,
   "metadata": {},
   "outputs": [
    {
     "data": {
      "text/plain": [
       "(100, 3)"
      ]
     },
     "execution_count": 100,
     "metadata": {},
     "output_type": "execute_result"
    }
   ],
   "source": [
    "Xn=np.concatenate((X0,X),axis=1)\n",
    "Xn[0:5,:]\n",
    "np.shape(Xn)"
   ]
  },
  {
   "cell_type": "code",
   "execution_count": 101,
   "metadata": {},
   "outputs": [
    {
     "data": {
      "text/plain": [
       "(3,)"
      ]
     },
     "execution_count": 101,
     "metadata": {},
     "output_type": "execute_result"
    }
   ],
   "source": [
    "w=(np.random.randn(D+1))\n",
    "np.shape(w)"
   ]
  },
  {
   "cell_type": "code",
   "execution_count": 107,
   "metadata": {},
   "outputs": [],
   "source": [
    "b=0\n",
    "z=np.dot(Xn,w)\n",
    "def sigmoid(z):\n",
    "    \n",
    "    return 1/(1+np.exp(-z)) "
   ]
  },
  {
   "cell_type": "code",
   "execution_count": 114,
   "metadata": {},
   "outputs": [
    {
     "name": "stdout",
     "output_type": "stream",
     "text": [
      "[0.15182945 0.62133546 0.29578271 0.75117149 0.25722188 0.35549322\n",
      " 0.47739812 0.6066883  0.56971219 0.62532588 0.1079736  0.91469308\n",
      " 0.8012857  0.6166502  0.22489001 0.16753152 0.78719707 0.64512359\n",
      " 0.13357571 0.12480949 0.43803651 0.26708461 0.37629766 0.79325251\n",
      " 0.7401898  0.12595689 0.24101556 0.25172299 0.44259269 0.05451653\n",
      " 0.27663867 0.59846838 0.73785793 0.41779457 0.36942203 0.75805178\n",
      " 0.56149774 0.45972943 0.47194467 0.14543029 0.33206088 0.23870437\n",
      " 0.46225877 0.42404087 0.82725251 0.10275598 0.07323456 0.08466889\n",
      " 0.34225787 0.29370408 0.67612067 0.32918974 0.18452131 0.04479254\n",
      " 0.26886699 0.78843054 0.56996535 0.64373201 0.06791411 0.74223036\n",
      " 0.4768216  0.06147388 0.90983052 0.50745471 0.78833018 0.06469497\n",
      " 0.02588629 0.87983793 0.74413334 0.71227015 0.24529834 0.57816275\n",
      " 0.28350782 0.40971251 0.25497422 0.61773167 0.28510592 0.54340157\n",
      " 0.75119362 0.50623024 0.33241517 0.88467539 0.35632148 0.08601468\n",
      " 0.65034071 0.03274718 0.1752638  0.44836473 0.02593684 0.86831683\n",
      " 0.30087915 0.14589597 0.12500874 0.38521502 0.15421675 0.59383785\n",
      " 0.56109833 0.56025593 0.07406906 0.2172422 ]\n"
     ]
    }
   ],
   "source": [
    "print(sigmoid(z))  #simply same as applying it on scalar or array, not like dataframe"
   ]
  },
  {
   "cell_type": "code",
   "execution_count": null,
   "metadata": {},
   "outputs": [],
   "source": []
  },
  {
   "cell_type": "code",
   "execution_count": null,
   "metadata": {},
   "outputs": [],
   "source": []
  },
  {
   "cell_type": "code",
   "execution_count": null,
   "metadata": {},
   "outputs": [],
   "source": []
  },
  {
   "cell_type": "code",
   "execution_count": null,
   "metadata": {},
   "outputs": [],
   "source": []
  },
  {
   "cell_type": "code",
   "execution_count": null,
   "metadata": {},
   "outputs": [],
   "source": []
  }
 ],
 "metadata": {
  "kernelspec": {
   "display_name": "Python 3",
   "language": "python",
   "name": "python3"
  },
  "language_info": {
   "codemirror_mode": {
    "name": "ipython",
    "version": 3
   },
   "file_extension": ".py",
   "mimetype": "text/x-python",
   "name": "python",
   "nbconvert_exporter": "python",
   "pygments_lexer": "ipython3",
   "version": "3.6.4"
  }
 },
 "nbformat": 4,
 "nbformat_minor": 2
}
