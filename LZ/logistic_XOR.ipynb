{
 "cells": [
  {
   "cell_type": "code",
   "execution_count": 34,
   "metadata": {},
   "outputs": [
    {
     "data": {
      "image/png": "[encoded data removed]",
      "text/plain": [
       "<Figure size 432x288 with 1 Axes>"
      ]
     },
     "metadata": {},
     "output_type": "display_data"
    },
    {
     "name": "stdout",
     "output_type": "stream",
     "text": [
      "L2 =0.01, final w,time,J [-1.59308455 -8.07078978  3.61555494  3.61555494] 499999 0.5177690215604144\n",
      "Classificatio rate: 1.0\n"
     ]
    },
    {
     "data": {
      "image/png": "[encoded data removed]",
      "text/plain": [
       "<Figure size 432x288 with 1 Axes>"
      ]
     },
     "metadata": {},
     "output_type": "display_data"
    }
   ],
   "source": [
    "#feature engineering adding xy\n",
    "\n",
    "import numpy as np\n",
    "import matplotlib.pyplot as plt\n",
    "\n",
    "N=4\n",
    "D=2\n",
    "\n",
    "X=np.array([[0, 0],[0,1],[1,0],[1,1]])\n",
    "T=np.array([0,1,1,0])\n",
    "xy=np.array([X[:,0]*X[:,1]]).T\n",
    "plt.scatter(X[:,0],X[:,1],c=T)\n",
    "plt.show()\n",
    "ones_=np.ones((N,1))\n",
    "Xn=np.concatenate((ones_,xy,X),axis=1)\n",
    "w=np.random.randn(D+2)\n",
    "\n",
    "\n",
    "z=np.dot(Xn,w)\n",
    "epsilon=1e-10\n",
    "iteration=500000\n",
    "L2=0.01\n",
    "alpha=0.001    # learning rate\n",
    "j_cost=[]\n",
    "\n",
    "\n",
    "def sigmoid(z):\n",
    "    return 1/(1+np.exp(-z))\n",
    "\n",
    "def cross_entropy_err(Yp,t):\n",
    "    \n",
    "    Err=(-1.0*(t*np.log(Yp+epsilon)+(1.0-t)*np.log(1-Yp+epsilon)))\n",
    "    return np.sum(Err)\n",
    "\n",
    "Y_n=sigmoid(np.dot(Xn,w))\n",
    "\n",
    "for time in range(iteration):\n",
    "\n",
    "    derivative=np.dot(Xn.T,(T-Y_n))-0.01*w        #L2=0.01\n",
    "    w=w+alpha*derivative                                   \n",
    "    Y_n=sigmoid(np.dot(Xn,w))\n",
    "    \n",
    "    if (time%1==0):\n",
    "        j_cost.append(cross_entropy_err(Y_n,T))\n",
    "        \n",
    "plt.plot(j_cost)    \n",
    "\n",
    "print('L2 =0.01, final w,time,J',w,time,cross_entropy_err(Y_n,T))\n",
    "print('Classificatio rate:', 1-np.abs(T-np.round(Y_n)).sum()/N)"
   ]
  },
  {
   "cell_type": "code",
   "execution_count": 29,
   "metadata": {},
   "outputs": [
    {
     "data": {
      "text/plain": [
       "array([[1., 0., 0., 0.],\n",
       "       [1., 0., 0., 1.],\n",
       "       [1., 0., 1., 0.],\n",
       "       [1., 1., 1., 1.]])"
      ]
     },
     "execution_count": 29,
     "metadata": {},
     "output_type": "execute_result"
    }
   ],
   "source": [
    "Xn"
   ]
  },
  {
   "cell_type": "code",
   "execution_count": null,
   "metadata": {},
   "outputs": [],
   "source": []
  }
 ],
 "metadata": {
  "kernelspec": {
   "display_name": "Python 3",
   "language": "python",
   "name": "python3"
  },
  "language_info": {
   "codemirror_mode": {
    "name": "ipython",
    "version": 3
   },
   "file_extension": ".py",
   "mimetype": "text/x-python",
   "name": "python",
   "nbconvert_exporter": "python",
   "pygments_lexer": "ipython3",
   "version": "3.6.4"
  }
 },
 "nbformat": 4,
 "nbformat_minor": 2
}
