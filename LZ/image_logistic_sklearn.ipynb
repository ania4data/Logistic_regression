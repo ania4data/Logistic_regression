{
 "cells": [
  {
   "cell_type": "code",
   "execution_count": 36,
   "metadata": {},
   "outputs": [],
   "source": [
    "import numpy as np\n",
    "import pandas as pd\n",
    "import matplotlib.pyplot as plt\n",
    "import seaborn as sns\n",
    "%matplotlib inline\n",
    "#from sklearn.model_selection import train_test_split\n",
    "from sklearn.model_selection import train_test_split\n",
    "from sklearn.linear_model import LogisticRegression\n",
    "from sklearn.metrics import classification_report\n",
    "from sklearn.metrics import confusion_matrix"
   ]
  },
  {
   "cell_type": "code",
   "execution_count": 10,
   "metadata": {},
   "outputs": [],
   "source": [
    "img_matrix_x=[]\n",
    "for line in open('X_matrix_image_clean.txt'):\n",
    "    list_=line.split(' ')\n",
    "    image_vec=np.array((list_[0:len(list_)]))\n",
    "    image_vec_f=[float(i) for i in image_vec]\n",
    "    img_matrix_x.append(image_vec_f)\n",
    "    \n",
    "img_matrix_y=[]\n",
    "for line in open('Y_matrix_image_clean.txt'):\n",
    "    list_=line.split(' ')\n",
    "    image_vec=np.array((list_[0:len(list_)]))\n",
    "    image_vec_f=[float(i) for i in image_vec]\n",
    "    img_matrix_y.append(image_vec_f)    "
   ]
  },
  {
   "cell_type": "code",
   "execution_count": 19,
   "metadata": {},
   "outputs": [],
   "source": [
    "N=np.shape(img_matrix_x)[0]\n",
    "D=np.shape(img_matrix_x)[1]\n",
    "#img_matrix_y=img_matrix_y.reshape(N,1)\n",
    "img_matrix_y=np.array(img_matrix_y).T"
   ]
  },
  {
   "cell_type": "code",
   "execution_count": 20,
   "metadata": {},
   "outputs": [
    {
     "data": {
      "text/plain": [
       "(15064, 1)"
      ]
     },
     "execution_count": 20,
     "metadata": {},
     "output_type": "execute_result"
    }
   ],
   "source": [
    "np.shape(img_matrix_y)"
   ]
  },
  {
   "cell_type": "code",
   "execution_count": 21,
   "metadata": {},
   "outputs": [
    {
     "data": {
      "text/plain": [
       "array([0.])"
      ]
     },
     "execution_count": 21,
     "metadata": {},
     "output_type": "execute_result"
    }
   ],
   "source": [
    "img_matrix_y[0]"
   ]
  },
  {
   "cell_type": "code",
   "execution_count": 27,
   "metadata": {},
   "outputs": [],
   "source": [
    "\n",
    "N=np.shape(img_matrix_x)[0]\n",
    "D=np.shape(img_matrix_x)[1]\n",
    "\n",
    "Y=np.random.randn(N)\n",
    "X=np.zeros((N,D))\n",
    "\n",
    "        \n",
    "for i in range(N):\n",
    "    Y[i]=np.round(img_matrix_y[i])    #expressions\n",
    "    for j in range(D):\n",
    "                \n",
    "        X[i,j]=img_matrix_x[i][j]     #pixels into XX\n",
    " \n",
    "       \n"
   ]
  },
  {
   "cell_type": "code",
   "execution_count": 29,
   "metadata": {},
   "outputs": [
    {
     "data": {
      "text/plain": [
       "(15064, 2304)"
      ]
     },
     "execution_count": 29,
     "metadata": {},
     "output_type": "execute_result"
    }
   ],
   "source": [
    "np.shape(X)"
   ]
  },
  {
   "cell_type": "code",
   "execution_count": 30,
   "metadata": {},
   "outputs": [],
   "source": [
    "X_train, X_test, Y_train, Y_test = train_test_split(X, Y, test_size=0.3, random_state=101)"
   ]
  },
  {
   "cell_type": "code",
   "execution_count": 31,
   "metadata": {},
   "outputs": [],
   "source": [
    "logmodel=LogisticRegression()"
   ]
  },
  {
   "cell_type": "code",
   "execution_count": 32,
   "metadata": {},
   "outputs": [
    {
     "data": {
      "text/plain": [
       "LogisticRegression(C=1.0, class_weight=None, dual=False, fit_intercept=True,\n",
       "          intercept_scaling=1, max_iter=100, multi_class='ovr', n_jobs=1,\n",
       "          penalty='l2', random_state=None, solver='liblinear', tol=0.0001,\n",
       "          verbose=0, warm_start=False)"
      ]
     },
     "execution_count": 32,
     "metadata": {},
     "output_type": "execute_result"
    }
   ],
   "source": [
    "logmodel.fit(X_train,Y_train)"
   ]
  },
  {
   "cell_type": "code",
   "execution_count": 33,
   "metadata": {},
   "outputs": [],
   "source": [
    "train_predict=logmodel.predict(X_train)"
   ]
  },
  {
   "cell_type": "code",
   "execution_count": 35,
   "metadata": {},
   "outputs": [
    {
     "name": "stdout",
     "output_type": "stream",
     "text": [
      "             precision    recall  f1-score   support\n",
      "\n",
      "        0.0       0.76      0.69      0.73      4195\n",
      "        1.0       0.81      0.86      0.83      6349\n",
      "\n",
      "avg / total       0.79      0.79      0.79     10544\n",
      "\n"
     ]
    }
   ],
   "source": [
    "print(classification_report(Y_train,train_predict))"
   ]
  },
  {
   "cell_type": "code",
   "execution_count": 38,
   "metadata": {},
   "outputs": [
    {
     "name": "stdout",
     "output_type": "stream",
     "text": [
      "[[2893 1302]\n",
      " [ 891 5458]]\n"
     ]
    }
   ],
   "source": [
    "print(confusion_matrix(Y_train,train_predict)) #overall my own code is 0.76 vs 0.79 here for classification rate"
   ]
  },
  {
   "cell_type": "code",
   "execution_count": 39,
   "metadata": {},
   "outputs": [],
   "source": [
    "test_predict=logmodel.predict(X_test)"
   ]
  },
  {
   "cell_type": "code",
   "execution_count": 40,
   "metadata": {},
   "outputs": [
    {
     "name": "stdout",
     "output_type": "stream",
     "text": [
      "             precision    recall  f1-score   support\n",
      "\n",
      "        0.0       0.61      0.55      0.58      1881\n",
      "        1.0       0.70      0.75      0.73      2639\n",
      "\n",
      "avg / total       0.66      0.67      0.66      4520\n",
      "\n"
     ]
    }
   ],
   "source": [
    "print(classification_report(Y_test,test_predict))"
   ]
  },
  {
   "cell_type": "code",
   "execution_count": 41,
   "metadata": {},
   "outputs": [
    {
     "name": "stdout",
     "output_type": "stream",
     "text": [
      "[[1029  852]\n",
      " [ 652 1987]]\n"
     ]
    }
   ],
   "source": [
    "print(confusion_matrix(Y_test,test_predict))   #overall my own code better 0.71 (vs. 0.66)even when not completely converged yet than this in test set but slower "
   ]
  },
  {
   "cell_type": "code",
   "execution_count": null,
   "metadata": {},
   "outputs": [],
   "source": []
  }
 ],
 "metadata": {
  "kernelspec": {
   "display_name": "Python 3",
   "language": "python",
   "name": "python3"
  },
  "language_info": {
   "codemirror_mode": {
    "name": "ipython",
    "version": 3
   },
   "file_extension": ".py",
   "mimetype": "text/x-python",
   "name": "python",
   "nbconvert_exporter": "python",
   "pygments_lexer": "ipython3",
   "version": "3.6.4"
  }
 },
 "nbformat": 4,
 "nbformat_minor": 2
}
