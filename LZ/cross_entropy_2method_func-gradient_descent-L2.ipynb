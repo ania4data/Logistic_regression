{
 "cells": [
  {
   "cell_type": "code",
   "execution_count": 8,
   "metadata": {},
   "outputs": [],
   "source": [
    "import numpy as np\n",
    "import pandas as pd\n",
    "import matplotlib.pyplot as plt"
   ]
  },
  {
   "cell_type": "code",
   "execution_count": 48,
   "metadata": {},
   "outputs": [
    {
     "name": "stdout",
     "output_type": "stream",
     "text": [
      "lambda =1.0, w,time,J [-0.03000199  1.69580438  1.25140113] 9999 2.2443790612033245\n",
      "lambda =0.0, w,time,J [0.86165003 4.60701185 2.5090499 ] 9999 0.37825097190505697\n",
      "lambda =0.0 alternate err cal, w,time,J [0.86165003 4.60701185 2.5090499 ] 9999 0.37825097692022297\n"
     ]
    },
    {
     "data": {
      "image/png": "[encoded data removed]",
      "text/plain": [
       "<Figure size 432x288 with 1 Axes>"
      ]
     },
     "metadata": {},
     "output_type": "display_data"
    },
    {
     "data": {
      "image/png": "[encoded data removed]",
      "text/plain": [
       "<Figure size 432x288 with 1 Axes>"
      ]
     },
     "metadata": {},
     "output_type": "display_data"
    }
   ],
   "source": [
    "N=100\n",
    "D=2\n",
    "\n",
    "X=np.random.randn(N,D)\n",
    "X[:50,:]=X[:50,:]-2*np.ones((50,D))\n",
    "X[50:,:]=X[50:,:]+2*np.ones((50,D))\n",
    "\n",
    "T_target=np.random.randn(N)\n",
    "T_target[:50]=0\n",
    "T_target[50:]=1      # another way T=np.array([0]*50+[1]*50)    shape(100,)  array([0., 0., 0., 0., 0., 0., 0., 0., 0., 0., 0., 0., 0.,\n",
    "Xn=np.concatenate((np.ones((100,1)),X),axis=1)                  #if do N,1 is (100,1), Y_predict is (100,)\n",
    "\n",
    "w=(np.random.randn(D+1))\n",
    "z=np.dot(Xn,w)\n",
    "epsilon=1e-10\n",
    "iteration=10000\n",
    "wbackup=w\n",
    "\n",
    "def sigmoid(z):\n",
    "    return 1/(1+np.exp(-z))\n",
    "\n",
    "\n",
    "alpha=0.001    # learning rate\n",
    "lambda_=1\n",
    "\n",
    "Y_n=sigmoid(z)\n",
    "\n",
    "def cross_entropy_err(Yp,t):\n",
    "    \n",
    "    Err=(-1.0*(t*np.log(Yp+epsilon)+(1.0-t)*np.log(1-Yp+epsilon)))\n",
    "    return np.sum(Err)\n",
    "\n",
    "def cross_entropy_err2(Yp,t):\n",
    "    Err=0\n",
    "    for i in range(N):\n",
    "        if (t[i]==1):\n",
    "            Err=Err+(-1.0*(t[i]*np.log(Yp[i]+epsilon)))\n",
    "        if (t[i]==0):\n",
    "            Err=Err+(-1.0*((1.0-t[i])*np.log(1-Yp[i])))            \n",
    "    return Err\n",
    "\n",
    "\n",
    "j_cost_lambda=[]\n",
    "j_cost=[]\n",
    "j_cost2=[]\n",
    "w_mag=[]\n",
    "w_1_mag=[]\n",
    "w_2_mag=[]\n",
    "\n",
    "for time in range(iteration):\n",
    "\n",
    "    derivative=np.dot(Xn.T,(T_target-Y_n))-lambda_*w           #keep the weights from overgrowing to make maximum liklihood maximum\n",
    "    w=w+alpha*derivative                                    #using lambda*w make maximum posterior not liklihood\n",
    "    Y_n=sigmoid(np.dot(Xn,w))\n",
    "    \n",
    "    if (time%1==0):\n",
    "        #print(w,time)\n",
    "        #print(time,cross_entropy_err(Y_n,T_target))\n",
    "        j_cost_lambda.append(cross_entropy_err(Y_n,T_target))\n",
    "        w_mag.append(np.dot(w.T,w))\n",
    "#   \n",
    "print('lambda =1.0, w,time,J',w,time,cross_entropy_err(Y_n,T_target))\n",
    "w=wbackup   #start from same random variable\n",
    "z=np.dot(Xn,w)\n",
    "Y_n=sigmoid(z)\n",
    "\n",
    "for time in range(iteration):\n",
    "\n",
    "    derivative=np.dot(Xn.T,(T_target-Y_n))            #keep the weights from overgrowing to make maximum liklihood maximum\n",
    "    w=w+alpha*derivative                              #using lambda*w make maximum posterior not liklihood -lambda*w make the convergance faster\n",
    "    Y_n=sigmoid(np.dot(Xn,w))\n",
    "    \n",
    "    if (time%1==0):\n",
    "\n",
    "        j_cost.append(cross_entropy_err(Y_n,T_target))\n",
    "        w_1_mag.append(np.dot(w.T,w))\n",
    "\n",
    "print('lambda =0.0, w,time,J',w,time,cross_entropy_err(Y_n,T_target))\n",
    "\n",
    "w=wbackup   #start from same random variable\n",
    "z=np.dot(Xn,w)\n",
    "Y_n=sigmoid(z)\n",
    "\n",
    "for time in range(iteration):\n",
    "\n",
    "    derivative=np.dot(Xn.T,(T_target-Y_n))            #keep the weights from overgrowing to make maximum liklihood maximum\n",
    "    w=w+alpha*derivative                      #using lambda*w make maximum posterior not liklihood -lambda*w make the convergance faster\n",
    "    Y_n=sigmoid(np.dot(Xn,w))\n",
    "    \n",
    "    if (time%1==0):\n",
    "\n",
    "        j_cost2.append(cross_entropy_err2(Y_n,T_target))\n",
    "        w_2_mag.append(np.dot(w.T,w))\n",
    "\n",
    "print('lambda =0.0 alternate err cal, w,time,J',w,time,cross_entropy_err2(Y_n,T_target))\n",
    "\n",
    "plt.plot(j_cost_lambda,label='lambda =1.0')\n",
    "plt.plot(j_cost,label='lambda= 0.0')\n",
    "plt.plot(j_cost2,label='lambda= 0.0 alternate J cal')\n",
    "plt.legend()\n",
    "plt.title('J log portion only')\n",
    "plt.show()\n",
    "\n",
    "plt.plot(w_mag,label='lambda =1.0 epsilon 1e-10')\n",
    "plt.plot(w_1_mag,label='lambda= 0.0 epsilon 1e-10')\n",
    "plt.plot(w_2_mag,label='lambda= 0.0 alternate J cal')\n",
    "plt.legend()\n",
    "plt.title('W^2')\n",
    "plt.show()"
   ]
  },
  {
   "cell_type": "code",
   "execution_count": 17,
   "metadata": {},
   "outputs": [
    {
     "data": {
      "text/plain": [
       "(3,)"
      ]
     },
     "execution_count": 17,
     "metadata": {},
     "output_type": "execute_result"
    }
   ],
   "source": [
    "np.shape(derivative)"
   ]
  },
  {
   "cell_type": "code",
   "execution_count": 106,
   "metadata": {},
   "outputs": [
    {
     "data": {
      "text/plain": [
       "-23.025850929940457"
      ]
     },
     "execution_count": 106,
     "metadata": {},
     "output_type": "execute_result"
    }
   ],
   "source": [
    "np.log(1e-10)"
   ]
  },
  {
   "cell_type": "code",
   "execution_count": 97,
   "metadata": {},
   "outputs": [
    {
     "data": {
      "text/plain": [
       "array([5.79293261e-13, 2.44053408e-05, 1.97218993e-15, 2.81113667e-07,\n",
       "       1.17836629e-13, 2.14209744e-14, 5.10249829e-19, 4.38973578e-10,\n",
       "       1.40809128e-24, 3.17520579e-14, 1.01929414e-13, 2.10425635e-10,\n",
       "       7.25964082e-20, 6.37565535e-14, 3.07495092e-17, 1.26670704e-15,\n",
       "       1.24367952e-13, 2.34368294e-12, 6.06663060e-18, 6.45511921e-10,\n",
       "       1.03606886e-09, 7.20219863e-13, 2.21006942e-18, 5.84336089e-07,\n",
       "       1.75789071e-15, 5.90700801e-10, 2.14601944e-02, 5.50584671e-16,\n",
       "       2.62326315e-20, 4.16264192e-16, 6.53779270e-11, 1.26736858e-12,\n",
       "       1.61494654e-08, 1.11231588e-07, 2.16272708e-17, 2.50786766e-07,\n",
       "       9.15778608e-14, 2.42368551e-15, 2.29197657e-14, 1.36419648e-18,\n",
       "       2.37826561e-18, 1.65096671e-15, 1.74045436e-12, 1.29257580e-20,\n",
       "       1.32689703e-12, 1.12443100e-24, 6.83022271e-08, 8.17804989e-21,\n",
       "       5.26669406e-04, 1.37260051e-14, 1.00000000e+00, 1.00000000e+00,\n",
       "       1.00000000e+00, 1.00000000e+00, 1.00000000e+00, 9.99999135e-01,\n",
       "       1.00000000e+00, 9.99951008e-01, 1.00000000e+00, 1.00000000e+00,\n",
       "       1.00000000e+00, 9.96831912e-01, 1.00000000e+00, 1.00000000e+00,\n",
       "       1.00000000e+00, 9.99999998e-01, 1.00000000e+00, 9.99999982e-01,\n",
       "       9.99998527e-01, 9.99999797e-01, 1.00000000e+00, 1.00000000e+00,\n",
       "       1.00000000e+00, 1.00000000e+00, 9.99999972e-01, 1.00000000e+00,\n",
       "       9.99987068e-01, 1.00000000e+00, 1.00000000e+00, 9.99994982e-01,\n",
       "       1.00000000e+00, 9.94328082e-01, 1.00000000e+00, 9.99997649e-01,\n",
       "       9.99999981e-01, 9.99999995e-01, 1.00000000e+00, 1.00000000e+00,\n",
       "       9.99999596e-01, 9.99999999e-01, 9.95474632e-01, 9.99967254e-01,\n",
       "       9.99798678e-01, 9.96167829e-01, 1.00000000e+00, 9.99999999e-01,\n",
       "       1.00000000e+00, 9.99999999e-01, 1.00000000e+00, 9.99999979e-01])"
      ]
     },
     "execution_count": 97,
     "metadata": {},
     "output_type": "execute_result"
    }
   ],
   "source": [
    "Y_n"
   ]
  },
  {
   "cell_type": "code",
   "execution_count": 1,
   "metadata": {},
   "outputs": [
    {
     "data": {
      "text/plain": [
       "range(0, 100)"
      ]
     },
     "execution_count": 1,
     "metadata": {},
     "output_type": "execute_result"
    }
   ],
   "source": [
    "N=100\n",
    "range(N)"
   ]
  },
  {
   "cell_type": "code",
   "execution_count": null,
   "metadata": {},
   "outputs": [],
   "source": []
  }
 ],
 "metadata": {
  "kernelspec": {
   "display_name": "Python 3",
   "language": "python",
   "name": "python3"
  },
  "language_info": {
   "codemirror_mode": {
    "name": "ipython",
    "version": 3
   },
   "file_extension": ".py",
   "mimetype": "text/x-python",
   "name": "python",
   "nbconvert_exporter": "python",
   "pygments_lexer": "ipython3",
   "version": "3.6.4"
  }
 },
 "nbformat": 4,
 "nbformat_minor": 2
}
